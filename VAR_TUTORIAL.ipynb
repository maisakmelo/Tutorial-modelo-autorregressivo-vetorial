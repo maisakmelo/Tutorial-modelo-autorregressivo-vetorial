{
 "cells": [
  {
   "cell_type": "markdown",
   "metadata": {},
   "source": [
    "# Vetor autorregressivo usando o Python"
   ]
  },
  {
   "cell_type": "markdown",
   "metadata": {},
   "source": [
    "### Autores:\n",
    "* Bruno Henrique Golfette: @brunohg\n",
    "* Maisa Kely de Melo: @maisakmelo"
   ]
  },
  {
   "cell_type": "markdown",
   "metadata": {},
   "source": [
    "# Objetivos do arquivo:\n",
    "\n",
    "* Compreender a fórmula do vetor autorregressivo\n",
    "* Verificar se as séries influenciam-se mutuamente usando o Teste de Granger\n",
    "* Aprender o procedimento para construir um modelo VAR no Python\n",
    "* Aprender a determinar a ordem do modelo VAR\n",
    "* Interpretar os resultados do modelo VAR\n",
    "* Voltar os valores previstos para a escala original da série temporal"
   ]
  },
  {
   "cell_type": "markdown",
   "metadata": {},
   "source": [
    "Modelo autorregressivo vetorial (VAR) é um algoritmo de previsão usado quando duas ou mais séries influenciam-se mutuamente. Na prática, é um modelo de regressão que trata todas as variáveis como endógenas e permite que cada uma delas dependam de p valores de lags passados, esses valores são da própria série e das outras séries.\n",
    "\n",
    "Os requerimentos básicos para usar o VAR são:\n",
    "\n",
    "* Haver pelo menos duas séries\n",
    "* As série devem influenciar uma na outra\n",
    "* As séries devem ser estacionárias"
   ]
  },
  {
   "cell_type": "markdown",
   "metadata": {},
   "source": [
    "### Matematicamente\n",
    "\n",
    "Um modelo autorregressivo vetorial de ordem *p* é um processo que pode ser representado como:"
   ]
  },
  {
   "attachments": {
    "image.png": {
     "image/png": "[encoded data removed]"
    }
   },
   "cell_type": "markdown",
   "metadata": {},
   "source": [
    "![image.png](attachment:image.png)"
   ]
  },
  {
   "cell_type": "markdown",
   "metadata": {},
   "source": [
    "* yt é um vetor Nx1 que contém N variáveis endógenas \n",
    " * variáveis endógenas são determinadas dentro do modelo --> representam a saída do modelo\n",
    "* a0 é um vetor Nx1 de constantes\n",
    "* A1,A2,...,Ap são matrizes pNxN de coeficientes autorregressivos\n",
    "* ut é um vetor Nx1 que representa um ruído branco"
   ]
  },
  {
   "cell_type": "markdown",
   "metadata": {},
   "source": [
    "# Passo a passo para construir o modelo VAR:\n",
    "\n",
    "1. Analisar as características da série\n",
    "2. Verificar se as séries influenciam uma a outra\n",
    "3. Verificar se as séries são estacionárias\n",
    "4. Se as séries não forem estacionárias, torná-las estacionárias\n",
    "5. Encontrar a ordem do VAR (p)\n",
    "6. Separar a base de dados em: treinamento e teste\n",
    "7. Treinar o modelo\n",
    "8. Fazer as previsões\n",
    "9. Fazer uma transformação para voltar as previsões à escala original\n",
    "10. Plotar as previsões *versus* os dados reais\n",
    "11. Analisar os resultados obtidos"
   ]
  },
  {
   "cell_type": "markdown",
   "metadata": {},
   "source": [
    "# Pacotes necessários"
   ]
  },
  {
   "cell_type": "code",
   "execution_count": 2,
   "metadata": {},
   "outputs": [],
   "source": [
    "import pandas as pd\n",
    "import numpy as np\n",
    "from statsmodels.tsa.api import VAR\n",
    "from pandas.plotting import register_matplotlib_converters\n",
    "register_matplotlib_converters()\n",
    "from statsmodels.tsa.stattools import adfuller\n",
    "import matplotlib.pyplot as plt"
   ]
  },
  {
   "cell_type": "markdown",
   "metadata": {},
   "source": [
    "# Base de dados"
   ]
  },
  {
   "cell_type": "markdown",
   "metadata": {},
   "source": [
    "Neste artigo usamos preços de fechamentos diários de cinco ativos da B3 para o período 04/01/2016 a 31/01/2018\n",
    "\n",
    "Ativos utilizados:\n",
    "\n",
    "1. **MRVE3**: MRV Engenharia\n",
    "2. **ENBR3**: Energias BR\n",
    "3. **CMIG4**: Cemig\n",
    "4. **EQTL3**: Equatorial Energia\n",
    "5. **LREN3**: Lojas Renner"
   ]
  },
  {
   "cell_type": "code",
   "execution_count": 3,
   "metadata": {},
   "outputs": [
    {
     "name": "stdout",
     "output_type": "stream",
     "text": [
      "(516, 5)\n"
     ]
    },
    {
     "data": {
      "text/html": [
       "<div>\n",
       "<style scoped>\n",
       "    .dataframe tbody tr th:only-of-type {\n",
       "        vertical-align: middle;\n",
       "    }\n",
       "\n",
       "    .dataframe tbody tr th {\n",
       "        vertical-align: top;\n",
       "    }\n",
       "\n",
       "    .dataframe thead th {\n",
       "        text-align: right;\n",
       "    }\n",
       "</style>\n",
       "<table border=\"1\" class=\"dataframe\">\n",
       "  <thead>\n",
       "    <tr style=\"text-align: right;\">\n",
       "      <th></th>\n",
       "      <th>MRVE3</th>\n",
       "      <th>ENBR3</th>\n",
       "      <th>CMIG4</th>\n",
       "      <th>EQTL3</th>\n",
       "      <th>LREN3</th>\n",
       "    </tr>\n",
       "    <tr>\n",
       "      <th>Data</th>\n",
       "      <th></th>\n",
       "      <th></th>\n",
       "      <th></th>\n",
       "      <th></th>\n",
       "      <th></th>\n",
       "    </tr>\n",
       "  </thead>\n",
       "  <tbody>\n",
       "    <tr>\n",
       "      <th>2016-01-04</th>\n",
       "      <td>7.555</td>\n",
       "      <td>9.711</td>\n",
       "      <td>4.580</td>\n",
       "      <td>31.407</td>\n",
       "      <td>14.095</td>\n",
       "    </tr>\n",
       "    <tr>\n",
       "      <th>2016-01-05</th>\n",
       "      <td>7.700</td>\n",
       "      <td>10.219</td>\n",
       "      <td>4.451</td>\n",
       "      <td>32.930</td>\n",
       "      <td>15.099</td>\n",
       "    </tr>\n",
       "    <tr>\n",
       "      <th>2016-01-06</th>\n",
       "      <td>7.519</td>\n",
       "      <td>10.288</td>\n",
       "      <td>4.224</td>\n",
       "      <td>33.120</td>\n",
       "      <td>15.012</td>\n",
       "    </tr>\n",
       "    <tr>\n",
       "      <th>2016-01-07</th>\n",
       "      <td>7.482</td>\n",
       "      <td>9.650</td>\n",
       "      <td>3.990</td>\n",
       "      <td>32.206</td>\n",
       "      <td>14.767</td>\n",
       "    </tr>\n",
       "    <tr>\n",
       "      <th>2016-01-08</th>\n",
       "      <td>7.492</td>\n",
       "      <td>9.995</td>\n",
       "      <td>3.803</td>\n",
       "      <td>32.644</td>\n",
       "      <td>14.732</td>\n",
       "    </tr>\n",
       "  </tbody>\n",
       "</table>\n",
       "</div>"
      ],
      "text/plain": [
       "            MRVE3   ENBR3  CMIG4   EQTL3   LREN3\n",
       "Data                                            \n",
       "2016-01-04  7.555   9.711  4.580  31.407  14.095\n",
       "2016-01-05  7.700  10.219  4.451  32.930  15.099\n",
       "2016-01-06  7.519  10.288  4.224  33.120  15.012\n",
       "2016-01-07  7.482   9.650  3.990  32.206  14.767\n",
       "2016-01-08  7.492   9.995  3.803  32.644  14.732"
      ]
     },
     "execution_count": 3,
     "metadata": {},
     "output_type": "execute_result"
    }
   ],
   "source": [
    "df = pd.read_excel('Correlacao.xlsx', sheet_name='Variados')\n",
    "df_copy = df.copy()\n",
    "df.set_index('Data', inplace = True)\n",
    "df = df[df.columns[:5]]\n",
    "print(df.shape) #(516,5)\n",
    "df.head()"
   ]
  },
  {
   "cell_type": "markdown",
   "metadata": {},
   "source": [
    "# <font color='green'>**PASSO 1:**</font> Visualização das séries temporais"
   ]
  },
  {
   "cell_type": "code",
   "execution_count": 4,
   "metadata": {},
   "outputs": [
    {
     "data": {
      "text/plain": [
       "<matplotlib.axes._subplots.AxesSubplot at 0x1bad52d7978>"
      ]
     },
     "execution_count": 4,
     "metadata": {},
     "output_type": "execute_result"
    },
    {
     "data": {
      "image/png": "[encoded data removed]",
      "text/plain": [
       "<Figure size 1440x720 with 2 Axes>"
      ]
     },
     "metadata": {
      "needs_background": "light"
     },
     "output_type": "display_data"
    }
   ],
   "source": [
    "fig, (ax1, ax2) = plt.subplots(nrows=2, ncols=1, figsize=(20,10))\n",
    "df.plot(ax=ax1) # series plot\n",
    "pd.plotting.lag_plot(df) # lag plot"
   ]
  },
  {
   "cell_type": "markdown",
   "metadata": {},
   "source": [
    "## Observação\n",
    "\n",
    "* As séries temporais indicam algum tipo de relação entre os dados.\n",
    "* A forma linear do gráfico de lags sugere que o VAR é mesmo a melhor escolha."
   ]
  },
  {
   "cell_type": "markdown",
   "metadata": {},
   "source": [
    "# <font color='green'>**PASSO 2:**</font> Teste de *Causation* usando o teste de Granger\n",
    "\n",
    "Este teste responde à pergunta:\n",
    "### <font color='green'>**As séries influenciam uma a outra?**</font>\n",
    "\n",
    "* Teste de causalidade de Granger verifica todas as possíveis combinações das séries temporais.\n",
    "* As linhas são as variáveis resposta.\n",
    "* As colunas são os preditores.\n",
    "* Os valores na tabela são os *p*-valores.\n",
    "* <font color='green'>**Hipótese Nula**</font>: os coeficientes dos valores correspondentes passados são zero (X não influencia Y)\n",
    "* *p*-valores menores que 0.05 (nível de significância) implicam que a Hipótese Nula pode ser rejeitada.\n",
    "*  <font color='green'>**data**</font>: Dataframe em pandas contendo as séries temporais\n",
    "*  <font color='green'>**variables**</font>: Lista contendo os nomes das variáveis das séries temporais (nome dos ativos)"
   ]
  },
  {
   "cell_type": "code",
   "execution_count": 5,
   "metadata": {},
   "outputs": [
    {
     "name": "stdout",
     "output_type": "stream",
     "text": [
      "           MRVE3_x_x  ENBR3_x_x  CMIG4_x_x  EQTL3_x_x  LREN3_x_x\n",
      "MRVE3_x_y     1.0000     0.1171     0.0000     0.0000     0.0006\n",
      "ENBR3_x_y     0.6244     1.0000     0.0000     0.4733     0.0000\n",
      "CMIG4_x_y     0.0164     0.1016     1.0000     0.0410     0.0157\n",
      "EQTL3_x_y     0.0000     0.0510     0.0012     1.0000     0.0000\n",
      "LREN3_x_y     0.0001     0.0232     0.4289     0.1099     1.0000\n"
     ]
    }
   ],
   "source": [
    "from statsmodels.tsa.stattools import grangercausalitytests\n",
    "maxlag=1\n",
    "\n",
    "def grangers_causation_matrix(data, variables, test='ssr_chi2test', verbose=False):\n",
    "    df = pd.DataFrame(np.zeros((len(variables), len(variables))), columns=variables, index=variables)\n",
    "    for c in df.columns:\n",
    "        for r in df.index:\n",
    "            test_result = grangercausalitytests(data[[r, c]], maxlag=maxlag, verbose=False)\n",
    "            p_values = [round(test_result[i+1][0][test][1],4) for i in range(maxlag)]\n",
    "            if verbose: print(f'Y = {r}, X = {c}, P Values = {p_values}')\n",
    "            min_p_value = np.min(p_values)\n",
    "            df.loc[r, c] = min_p_value\n",
    "    df.columns = [var + '_x' for var in variables]\n",
    "    df.index = [var + '_y' for var in variables]\n",
    "    return df\n",
    "\n",
    "def ImprimeGT(data):\n",
    "    variables=data.columns\n",
    "    df = grangers_causation_matrix(data, variables, test='ssr_chi2test', verbose=False)\n",
    "    print(grangers_causation_matrix(df, variables=df.columns))\n",
    "    return\n",
    "\n",
    "ImprimeGT(df)"
   ]
  },
  {
   "cell_type": "markdown",
   "metadata": {},
   "source": [
    "### Como ler os resultados acima?\n",
    "\n",
    "* Considere o valor 0.0006 (linha 1, coluna 5).\n",
    "* Este é o *p*-valor que analisa se MRVE3 influencia LREN3.\n",
    "* Como 0.0006<0.05, segue que rejeita-se a Hipótese Nula, ou seja, é verdade que MRVE3 influencia LREN3.\n",
    "* Este influenciar está relacionado com ter alta correlação.\n",
    "* O ideal é que todos os *p*-valores sejam menores que 0.05, porque neste caso, a série é totalmente correlacionada e isto é ideal para o modelo VAR."
   ]
  },
  {
   "cell_type": "markdown",
   "metadata": {},
   "source": [
    "# <font color='green'>**PASSO 3:**</font> Teste de Cointegração de Johansen"
   ]
  },
  {
   "cell_type": "markdown",
   "metadata": {},
   "source": [
    "O teste de cointegração de Johansen verifica se as séries são cointegradas."
   ]
  },
  {
   "cell_type": "markdown",
   "metadata": {},
   "source": [
    "* Duas séries xt e yt podem ser passeios aleatórios.\n",
    "* Mas a combinação linear entre elas xt-cyt pode não ser um passeio aleatório.\n",
    " * Quando esta situação acontece:\n",
    "   * xt-cyt é previsível\n",
    "   * xt e yt são ditas ser cointegradas.\n",
    "* Por isso, cointegração implica que xt e yt compartilham tendências estocásticas semelhantes.\n",
    "* Como sua diferença é estacionária, elas nunca divergem muito uma da outra.\n",
    "* Isso significa que elas comovimentarão no longo prazo, pois a combinação linear delas é reversível a média.\n",
    "* Esta é uma premissa básica utilizada pelo VAR."
   ]
  },
  {
   "cell_type": "code",
   "execution_count": 6,
   "metadata": {},
   "outputs": [
    {
     "name": "stdout",
     "output_type": "stream",
     "text": [
      "Name   ::  Test Stat > C(95%)    =>   Signif  \n",
      " ----------------------------------------\n",
      "MRVE3  ::  51.16     > 60.0627   =>   False\n",
      "ENBR3  ::  30.57     > 40.1749   =>   False\n",
      "CMIG4  ::  14.68     > 24.2761   =>   False\n",
      "EQTL3  ::  7.2       > 12.3212   =>   False\n",
      "LREN3  ::  0.48      > 4.1296    =>   False\n"
     ]
    }
   ],
   "source": [
    "from statsmodels.tsa.vector_ar.vecm import coint_johansen\n",
    "def cointegration_test(df, alpha=0.05): \n",
    "    \"\"\"Perform Johanson's Cointegration Test and Report Summary\"\"\"\n",
    "    out = coint_johansen(df,-1,5)\n",
    "    d = {'0.90':0, '0.95':1, '0.99':2}\n",
    "    traces = out.lr1\n",
    "    cvts = out.cvt[:, d[str(1-alpha)]]\n",
    "    def adjust(val, length= 6): return str(val).ljust(length)\n",
    "\n",
    "    # Summary\n",
    "    print('Name   ::  Test Stat > C(95%)    =>   Signif  \\n', '--'*20)\n",
    "    for col, trace, cvt in zip(df.columns, traces, cvts):\n",
    "        print(adjust(col), ':: ', adjust(round(trace,2), 9), \">\", adjust(cvt, 8), ' =>  ' , trace > cvt)\n",
    "\n",
    "cointegration_test(df)"
   ]
  },
  {
   "cell_type": "markdown",
   "metadata": {},
   "source": [
    "### Interpretando o Teste de Johansen\n",
    "\n",
    "**Hipótese Nula**: As séries temporais são não cointegradas\n",
    "\n",
    "**Hipótese Alternativa**: A hipótese nula é falsa\n",
    "\n",
    "Rejeita-se a hipótese nula quando a estatística do teste for maior que o valor crítico.\n",
    "\n",
    "Como no nosso teste todos os valores para as estatísticas do teste foram menores que o valor crítico, ao nível de significância de 5% não é possível rejeitar a hipótese nula.\n",
    "\n",
    "Portanto, as séries temporais são cointegradas."
   ]
  },
  {
   "cell_type": "markdown",
   "metadata": {},
   "source": [
    "## <font color='green'>**PASSO 4:**</font> Separação dos dados em:\n",
    "* Dados de treinamento\n",
    "* Dados de teste"
   ]
  },
  {
   "cell_type": "code",
   "execution_count": 7,
   "metadata": {},
   "outputs": [
    {
     "name": "stdout",
     "output_type": "stream",
     "text": [
      "(512, 5)\n",
      "(4, 5)\n"
     ]
    }
   ],
   "source": [
    "nobs = 4 #quantidade de previsões que devem ser feitas\n",
    "df_train = df[0:-nobs] \n",
    "df_test = df[-nobs:]\n",
    "print(df_train.shape) #(512,5)\n",
    "print(df_test.shape) #(4,5)"
   ]
  },
  {
   "cell_type": "markdown",
   "metadata": {},
   "source": [
    "## <font color='green'>**PASSO 5:**</font> Teste de Adfuller"
   ]
  },
  {
   "cell_type": "code",
   "execution_count": 8,
   "metadata": {},
   "outputs": [],
   "source": [
    "def adfuller_test(series, signif=0.05, name='', verbose=False):\n",
    "    \"\"\"Perform ADFuller to test for Stationarity of given series and print report\"\"\"\n",
    "    r = adfuller(series, autolag='AIC')\n",
    "    output = {'test_statistic':round(r[0], 4), 'pvalue':round(r[1], 4), 'n_lags':round(r[2], 4), 'n_obs':r[3]}\n",
    "    p_value = output['pvalue']\n",
    "    def adjust(val, length= 6): return str(val).ljust(length)\n",
    "\n",
    "    # Print Summary\n",
    "    print(f'    Augmented Dickey-Fuller Test on \"{name}\"', \"\\n   \", '-'*47)\n",
    "    print(f' Null Hypothesis: Data has unit root. Non-Stationary.')\n",
    "    print(f' Significance Level    = {signif}')\n",
    "    print(f' Test Statistic        = {output[\"test_statistic\"]}')\n",
    "    print(f' No. Lags Chosen       = {output[\"n_lags\"]}')\n",
    "\n",
    "    for key,val in r[4].items():\n",
    "        print(f' Critical value {adjust(key)} = {round(val, 3)}')\n",
    "\n",
    "    if p_value <= signif:\n",
    "        print(f\" => P-Value = {p_value}. Rejecting Null Hypothesis.\")\n",
    "        print(f\" => Series is Stationary.\")\n",
    "    else:\n",
    "        print(f\" => P-Value = {p_value}. Weak evidence to reject the Null Hypothesis.\")\n",
    "        print(f\" => Series is Non-Stationary.\")"
   ]
  },
  {
   "cell_type": "markdown",
   "metadata": {},
   "source": [
    "### Verifica se cada série é estacionária\n",
    "\n",
    "Essa verificação é realizada pelo teste Augmented Dickey-Fuller Test (ADF Test)"
   ]
  },
  {
   "cell_type": "code",
   "execution_count": 9,
   "metadata": {},
   "outputs": [
    {
     "name": "stdout",
     "output_type": "stream",
     "text": [
      "    Augmented Dickey-Fuller Test on \"MRVE3\" \n",
      "    -----------------------------------------------\n",
      " Null Hypothesis: Data has unit root. Non-Stationary.\n",
      " Significance Level    = 0.05\n",
      " Test Statistic        = -1.8023\n",
      " No. Lags Chosen       = 1\n",
      " Critical value 1%     = -3.443\n",
      " Critical value 5%     = -2.867\n",
      " Critical value 10%    = -2.57\n",
      " => P-Value = 0.3793. Weak evidence to reject the Null Hypothesis.\n",
      " => Series is Non-Stationary.\n",
      "\n",
      "\n",
      "    Augmented Dickey-Fuller Test on \"ENBR3\" \n",
      "    -----------------------------------------------\n",
      " Null Hypothesis: Data has unit root. Non-Stationary.\n",
      " Significance Level    = 0.05\n",
      " Test Statistic        = -2.2381\n",
      " No. Lags Chosen       = 2\n",
      " Critical value 1%     = -3.443\n",
      " Critical value 5%     = -2.867\n",
      " Critical value 10%    = -2.57\n",
      " => P-Value = 0.1927. Weak evidence to reject the Null Hypothesis.\n",
      " => Series is Non-Stationary.\n",
      "\n",
      "\n",
      "    Augmented Dickey-Fuller Test on \"CMIG4\" \n",
      "    -----------------------------------------------\n",
      " Null Hypothesis: Data has unit root. Non-Stationary.\n",
      " Significance Level    = 0.05\n",
      " Test Statistic        = -2.3101\n",
      " No. Lags Chosen       = 0\n",
      " Critical value 1%     = -3.443\n",
      " Critical value 5%     = -2.867\n",
      " Critical value 10%    = -2.57\n",
      " => P-Value = 0.1687. Weak evidence to reject the Null Hypothesis.\n",
      " => Series is Non-Stationary.\n",
      "\n",
      "\n",
      "    Augmented Dickey-Fuller Test on \"EQTL3\" \n",
      "    -----------------------------------------------\n",
      " Null Hypothesis: Data has unit root. Non-Stationary.\n",
      " Significance Level    = 0.05\n",
      " Test Statistic        = -1.3686\n",
      " No. Lags Chosen       = 1\n",
      " Critical value 1%     = -3.443\n",
      " Critical value 5%     = -2.867\n",
      " Critical value 10%    = -2.57\n",
      " => P-Value = 0.5972. Weak evidence to reject the Null Hypothesis.\n",
      " => Series is Non-Stationary.\n",
      "\n",
      "\n",
      "    Augmented Dickey-Fuller Test on \"LREN3\" \n",
      "    -----------------------------------------------\n",
      " Null Hypothesis: Data has unit root. Non-Stationary.\n",
      " Significance Level    = 0.05\n",
      " Test Statistic        = -0.2235\n",
      " No. Lags Chosen       = 4\n",
      " Critical value 1%     = -3.443\n",
      " Critical value 5%     = -2.867\n",
      " Critical value 10%    = -2.57\n",
      " => P-Value = 0.9357. Weak evidence to reject the Null Hypothesis.\n",
      " => Series is Non-Stationary.\n",
      "\n",
      "\n"
     ]
    }
   ],
   "source": [
    "# ADF Test on each column\n",
    "for name, column in df_train.iteritems():\n",
    "    adfuller_test(column, name=column.name)\n",
    "    print('\\n') "
   ]
  },
  {
   "cell_type": "markdown",
   "metadata": {},
   "source": [
    "* Note que todas as séries são não estacionárias.\n",
    "* Então é preciso realizar a primeira diferença em todas as séries"
   ]
  },
  {
   "cell_type": "code",
   "execution_count": 10,
   "metadata": {},
   "outputs": [],
   "source": [
    "# 1st difference\n",
    "df_differenced = df_train.diff().dropna()"
   ]
  },
  {
   "cell_type": "markdown",
   "metadata": {},
   "source": [
    "Aplica o teste de Adfuller novamente para verificar se as séries se tornaram estacionárias"
   ]
  },
  {
   "cell_type": "code",
   "execution_count": 11,
   "metadata": {},
   "outputs": [
    {
     "name": "stdout",
     "output_type": "stream",
     "text": [
      "    Augmented Dickey-Fuller Test on \"MRVE3\" \n",
      "    -----------------------------------------------\n",
      " Null Hypothesis: Data has unit root. Non-Stationary.\n",
      " Significance Level    = 0.05\n",
      " Test Statistic        = -24.1976\n",
      " No. Lags Chosen       = 0\n",
      " Critical value 1%     = -3.443\n",
      " Critical value 5%     = -2.867\n",
      " Critical value 10%    = -2.57\n",
      " => P-Value = 0.0. Rejecting Null Hypothesis.\n",
      " => Series is Stationary.\n",
      "\n",
      "\n",
      "    Augmented Dickey-Fuller Test on \"ENBR3\" \n",
      "    -----------------------------------------------\n",
      " Null Hypothesis: Data has unit root. Non-Stationary.\n",
      " Significance Level    = 0.05\n",
      " Test Statistic        = -18.0867\n",
      " No. Lags Chosen       = 1\n",
      " Critical value 1%     = -3.443\n",
      " Critical value 5%     = -2.867\n",
      " Critical value 10%    = -2.57\n",
      " => P-Value = 0.0. Rejecting Null Hypothesis.\n",
      " => Series is Stationary.\n",
      "\n",
      "\n",
      "    Augmented Dickey-Fuller Test on \"CMIG4\" \n",
      "    -----------------------------------------------\n",
      " Null Hypothesis: Data has unit root. Non-Stationary.\n",
      " Significance Level    = 0.05\n",
      " Test Statistic        = -22.7957\n",
      " No. Lags Chosen       = 0\n",
      " Critical value 1%     = -3.443\n",
      " Critical value 5%     = -2.867\n",
      " Critical value 10%    = -2.57\n",
      " => P-Value = 0.0. Rejecting Null Hypothesis.\n",
      " => Series is Stationary.\n",
      "\n",
      "\n",
      "    Augmented Dickey-Fuller Test on \"EQTL3\" \n",
      "    -----------------------------------------------\n",
      " Null Hypothesis: Data has unit root. Non-Stationary.\n",
      " Significance Level    = 0.05\n",
      " Test Statistic        = -24.6381\n",
      " No. Lags Chosen       = 0\n",
      " Critical value 1%     = -3.443\n",
      " Critical value 5%     = -2.867\n",
      " Critical value 10%    = -2.57\n",
      " => P-Value = 0.0. Rejecting Null Hypothesis.\n",
      " => Series is Stationary.\n",
      "\n",
      "\n",
      "    Augmented Dickey-Fuller Test on \"LREN3\" \n",
      "    -----------------------------------------------\n",
      " Null Hypothesis: Data has unit root. Non-Stationary.\n",
      " Significance Level    = 0.05\n",
      " Test Statistic        = -13.3459\n",
      " No. Lags Chosen       = 3\n",
      " Critical value 1%     = -3.443\n",
      " Critical value 5%     = -2.867\n",
      " Critical value 10%    = -2.57\n",
      " => P-Value = 0.0. Rejecting Null Hypothesis.\n",
      " => Series is Stationary.\n",
      "\n",
      "\n"
     ]
    }
   ],
   "source": [
    "# ADF Test on each column\n",
    "for name, column in df_differenced.iteritems():\n",
    "    adfuller_test(column, name=column.name)\n",
    "    print('\\n') "
   ]
  },
  {
   "cell_type": "markdown",
   "metadata": {},
   "source": [
    "* Todas as séries são estacionárias após a primeira diferença.\n",
    "* Se alguma ainda não fosse estacionária, como o modelo VAR trabalha sempre com séries numéricas de um mesmo tamanho, se fosse feita a diferenciação apenas das séries não estacionárias, a base de dados ficaria com um tamanho diferente.\n",
    "* Então, aconselha-se fazer a diferenciação da série de dados completa, até todas as séries serem estacionárias."
   ]
  },
  {
   "cell_type": "markdown",
   "metadata": {},
   "source": [
    "# <font color='green'>**PASSO 6:**</font> Selecionando a ordem do modelo"
   ]
  },
  {
   "cell_type": "markdown",
   "metadata": {},
   "source": [
    "* Para selecionar a ordem do modelo, faz-se o teste considerando ordens do modelo que variam de 1 a 9.\n",
    "* A ordem ideal para o modelo é dada pelo valor do **Lag Order** que apresenta o **menor valor do AIC**."
   ]
  },
  {
   "cell_type": "code",
   "execution_count": 12,
   "metadata": {},
   "outputs": [
    {
     "name": "stderr",
     "output_type": "stream",
     "text": [
      "C:\\Users\\maisa\\Anaconda3\\lib\\site-packages\\statsmodels\\tsa\\base\\tsa_model.py:225: ValueWarning: A date index has been provided, but it has no associated frequency information and so will be ignored when e.g. forecasting.\n",
      "  ' ignored when e.g. forecasting.', ValueWarning)\n"
     ]
    },
    {
     "name": "stdout",
     "output_type": "stream",
     "text": [
      "Lag Order = 1\n",
      "AIC :  -12.510928219504468\n",
      "BIC :  -12.261845235638681\n",
      "FPE :  3.6861692187065935e-06\n",
      "HQIC:  -12.4132712708039 \n",
      "\n",
      "Lag Order = 2\n",
      "AIC :  -12.485524066828631\n",
      "BIC :  -12.028186854824154\n",
      "FPE :  3.7811195545941666e-06\n",
      "HQIC:  -12.30620262964938 \n",
      "\n",
      "Lag Order = 3\n",
      "AIC :  -12.444542772160851\n",
      "BIC :  -11.77832522136109\n",
      "FPE :  3.9395716338491855e-06\n",
      "HQIC:  -12.183297541068393 \n",
      "\n",
      "Lag Order = 4\n",
      "AIC :  -12.40150183437234\n",
      "BIC :  -11.525774703451088\n",
      "FPE :  4.113383143550035e-06\n",
      "HQIC:  -12.058072183487118 \n",
      "\n",
      "Lag Order = 5\n",
      "AIC :  -12.342679719069043\n",
      "BIC :  -11.256810614311393\n",
      "FPE :  4.363540521297154e-06\n",
      "HQIC:  -11.916803692860114 \n",
      "\n",
      "Lag Order = 6\n",
      "AIC :  -12.28772773567969\n",
      "BIC :  -10.991081089070422\n",
      "FPE :  4.611511295103557e-06\n",
      "HQIC:  -11.779142039676989 \n",
      "\n",
      "Lag Order = 7\n",
      "AIC :  -12.258114782733951\n",
      "BIC :  -10.75005182985132\n",
      "FPE :  4.752231414194978e-06\n",
      "HQIC:  -11.666554774158287 \n",
      "\n",
      "Lag Order = 8\n",
      "AIC :  -12.211261146354328\n",
      "BIC :  -10.491139904067158\n",
      "FPE :  4.983148133065195e-06\n",
      "HQIC:  -11.53646082466425 \n",
      "\n",
      "Lag Order = 9\n",
      "AIC :  -12.168793559959902\n",
      "BIC :  -10.235968803925841\n",
      "FPE :  5.203308763036487e-06\n",
      "HQIC:  -11.41048555731452 \n",
      "\n"
     ]
    }
   ],
   "source": [
    "model = VAR(df_differenced)\n",
    "for i in [1,2,3,4,5,6,7,8,9]:\n",
    "    result = model.fit(i)\n",
    "    print('Lag Order =', i)\n",
    "    print('AIC : ', result.aic)\n",
    "    print('BIC : ', result.bic)\n",
    "    print('FPE : ', result.fpe)\n",
    "    print('HQIC: ', result.hqic, '\\n')"
   ]
  },
  {
   "cell_type": "markdown",
   "metadata": {},
   "source": [
    "### Conclusão:\n",
    "\n",
    "* Menor AIC: -12.5\n",
    "* Correspondente a: Lag order = 1\n",
    "* Portanto a ordem utilizada para o VAR será 1."
   ]
  },
  {
   "cell_type": "code",
   "execution_count": 13,
   "metadata": {},
   "outputs": [],
   "source": [
    "#Define a ordem do modelo\n",
    "lag_order = 1"
   ]
  },
  {
   "cell_type": "markdown",
   "metadata": {},
   "source": [
    "# <font color='green'>**PASSO 7:**</font> Treinando o VAR com a ordem selecionada"
   ]
  },
  {
   "cell_type": "code",
   "execution_count": 14,
   "metadata": {},
   "outputs": [
    {
     "data": {
      "text/plain": [
       "  Summary of Regression Results   \n",
       "==================================\n",
       "Model:                         VAR\n",
       "Method:                        OLS\n",
       "Date:           Mon, 06, Jul, 2020\n",
       "Time:                     10:22:44\n",
       "--------------------------------------------------------------------\n",
       "No. of Equations:         5.00000    BIC:                   -12.2618\n",
       "Nobs:                     510.000    HQIC:                  -12.4133\n",
       "Log likelihood:          -398.007    FPE:                3.68617e-06\n",
       "AIC:                     -12.5109    Det(Omega_mle):     3.47678e-06\n",
       "--------------------------------------------------------------------\n",
       "Results for equation MRVE3\n",
       "===========================================================================\n",
       "              coefficient       std. error           t-stat            prob\n",
       "---------------------------------------------------------------------------\n",
       "const            0.015771         0.009902            1.593           0.111\n",
       "L1.MRVE3        -0.049370         0.051121           -0.966           0.334\n",
       "L1.ENBR3        -0.081388         0.059252           -1.374           0.170\n",
       "L1.CMIG4         0.073192         0.052102            1.405           0.160\n",
       "L1.EQTL3         0.005718         0.016586            0.345           0.730\n",
       "L1.LREN3        -0.024727         0.025557           -0.968           0.333\n",
       "===========================================================================\n",
       "\n",
       "Results for equation ENBR3\n",
       "===========================================================================\n",
       "              coefficient       std. error           t-stat            prob\n",
       "---------------------------------------------------------------------------\n",
       "const            0.005520         0.008836            0.625           0.532\n",
       "L1.MRVE3         0.031834         0.045616            0.698           0.485\n",
       "L1.ENBR3        -0.169707         0.052872           -3.210           0.001\n",
       "L1.CMIG4         0.030631         0.046492            0.659           0.510\n",
       "L1.EQTL3         0.025835         0.014800            1.746           0.081\n",
       "L1.LREN3        -0.021197         0.022805           -0.929           0.353\n",
       "===========================================================================\n",
       "\n",
       "Results for equation CMIG4\n",
       "===========================================================================\n",
       "              coefficient       std. error           t-stat            prob\n",
       "---------------------------------------------------------------------------\n",
       "const            0.003150         0.010158            0.310           0.756\n",
       "L1.MRVE3         0.023873         0.052439            0.455           0.649\n",
       "L1.ENBR3         0.084804         0.060781            1.395           0.163\n",
       "L1.CMIG4        -0.048266         0.053446           -0.903           0.366\n",
       "L1.EQTL3         0.007582         0.017014            0.446           0.656\n",
       "L1.LREN3        -0.014818         0.026216           -0.565           0.572\n",
       "===========================================================================\n",
       "\n",
       "Results for equation EQTL3\n",
       "===========================================================================\n",
       "              coefficient       std. error           t-stat            prob\n",
       "---------------------------------------------------------------------------\n",
       "const            0.075395         0.031310            2.408           0.016\n",
       "L1.MRVE3         0.052397         0.161637            0.324           0.746\n",
       "L1.ENBR3         0.283861         0.187348            1.515           0.130\n",
       "L1.CMIG4         0.028465         0.164741            0.173           0.863\n",
       "L1.EQTL3        -0.104448         0.052444           -1.992           0.046\n",
       "L1.LREN3        -0.116120         0.080808           -1.437           0.151\n",
       "===========================================================================\n",
       "\n",
       "Results for equation LREN3\n",
       "===========================================================================\n",
       "              coefficient       std. error           t-stat            prob\n",
       "---------------------------------------------------------------------------\n",
       "const            0.042515         0.020862            2.038           0.042\n",
       "L1.MRVE3         0.197163         0.107699            1.831           0.067\n",
       "L1.ENBR3        -0.108429         0.124830           -0.869           0.385\n",
       "L1.CMIG4        -0.022201         0.109767           -0.202           0.840\n",
       "L1.EQTL3         0.016294         0.034943            0.466           0.641\n",
       "L1.LREN3        -0.062840         0.053842           -1.167           0.243\n",
       "===========================================================================\n",
       "\n",
       "Correlation matrix of residuals\n",
       "            MRVE3     ENBR3     CMIG4     EQTL3     LREN3\n",
       "MRVE3    1.000000  0.401219  0.321915  0.328967  0.413685\n",
       "ENBR3    0.401219  1.000000  0.452888  0.419786  0.390680\n",
       "CMIG4    0.321915  0.452888  1.000000  0.435720  0.435264\n",
       "EQTL3    0.328967  0.419786  0.435720  1.000000  0.414548\n",
       "LREN3    0.413685  0.390680  0.435264  0.414548  1.000000\n",
       "\n"
      ]
     },
     "execution_count": 14,
     "metadata": {},
     "output_type": "execute_result"
    }
   ],
   "source": [
    "model_fitted = model.fit(lag_order)\n",
    "model_fitted.summary()"
   ]
  },
  {
   "cell_type": "markdown",
   "metadata": {},
   "source": [
    "# <font color='green'>**PASSO 8:**</font> Teste de Durbin Watson"
   ]
  },
  {
   "cell_type": "markdown",
   "metadata": {},
   "source": [
    "* O teste de Durbin Watson permite analisar se há alguma correlação deixada nos resíduos.\n",
    "* Caso haja alguma correlação residual, isso significa que algum padrão das séries temporais ainda não foi explicado pelo modelo.\n",
    "* Neste caso, os procedimentos adequados são:\n",
    "\n",
    " * aumentar a ordem do modelo;\n",
    "\n",
    " * induzir mais preditores no modelo;\n",
    "\n",
    " * usar um algoritmo que diferente do VAR"
   ]
  },
  {
   "cell_type": "markdown",
   "metadata": {},
   "source": [
    "### Para interpretar os valores\n",
    "\n",
    "* Os valores desta estatística podem variar entre 0 e 4.\n",
    "* Quanto mais próximo de 2, significa que não há correlação entre os erros da série.\n",
    "* Mais próximo de 0 significa que a correlação é positiva.\n",
    "* Mais próximo de 4 significa que a correlação é negativa."
   ]
  },
  {
   "cell_type": "code",
   "execution_count": 15,
   "metadata": {},
   "outputs": [
    {
     "name": "stdout",
     "output_type": "stream",
     "text": [
      "MRVE3  : 1.99\n",
      "ENBR3  : 2.0\n",
      "CMIG4  : 2.0\n",
      "EQTL3  : 2.0\n",
      "LREN3  : 1.98\n"
     ]
    }
   ],
   "source": [
    "from statsmodels.stats.stattools import durbin_watson\n",
    "def adjust(val, length= 6): return str(val).ljust(length)\n",
    "out = durbin_watson(model_fitted.resid)\n",
    "\n",
    "for col, val in zip(df.columns, out):\n",
    "    print(adjust(col), ':', round(val, 2))"
   ]
  },
  {
   "cell_type": "markdown",
   "metadata": {},
   "source": [
    "### Conclusão do teste de Durbin Watson\n",
    "* Como todas as estatísticas foram próximas a 2, não há correlação entre os erros da série"
   ]
  },
  {
   "cell_type": "markdown",
   "metadata": {},
   "source": [
    "# <font color='green'>**PASSO 9:**</font> Fazendo a previsão usando o VAR"
   ]
  },
  {
   "cell_type": "markdown",
   "metadata": {},
   "source": [
    "* Para fazer a previsão é necessário forcener ao modelo VAR observações dos dados passados.\n",
    "* A quantidade de dias passados é definida pelo número lag order, isto é, a quantidade de dias passados é dada pela ordem do modelo.\n",
    "* Isto ocorre porque os termos do VAR model são definidos de acordo com os lags."
   ]
  },
  {
   "cell_type": "markdown",
   "metadata": {},
   "source": [
    "### Dados de entrada para a previsão"
   ]
  },
  {
   "cell_type": "code",
   "execution_count": 16,
   "metadata": {},
   "outputs": [
    {
     "data": {
      "text/plain": [
       "array([[0.185, 0.366, 0.198, 2.195, 1.541]])"
      ]
     },
     "execution_count": 16,
     "metadata": {},
     "output_type": "execute_result"
    }
   ],
   "source": [
    "forecast_input = df_differenced.values[-lag_order:]\n",
    "forecast_input"
   ]
  },
  {
   "cell_type": "markdown",
   "metadata": {},
   "source": [
    "Como a ordem do modelo é 1, será usado apenas um dia de dados passados, no caso, o dia mais recente da base de dados estacionária."
   ]
  },
  {
   "cell_type": "markdown",
   "metadata": {},
   "source": [
    "## Fazendo as previsões"
   ]
  },
  {
   "cell_type": "code",
   "execution_count": 17,
   "metadata": {},
   "outputs": [
    {
     "data": {
      "text/html": [
       "<div>\n",
       "<style scoped>\n",
       "    .dataframe tbody tr th:only-of-type {\n",
       "        vertical-align: middle;\n",
       "    }\n",
       "\n",
       "    .dataframe tbody tr th {\n",
       "        vertical-align: top;\n",
       "    }\n",
       "\n",
       "    .dataframe thead th {\n",
       "        text-align: right;\n",
       "    }\n",
       "</style>\n",
       "<table border=\"1\" class=\"dataframe\">\n",
       "  <thead>\n",
       "    <tr style=\"text-align: right;\">\n",
       "      <th></th>\n",
       "      <th>MRVE3_1d</th>\n",
       "      <th>ENBR3_1d</th>\n",
       "      <th>CMIG4_1d</th>\n",
       "      <th>EQTL3_1d</th>\n",
       "      <th>LREN3_1d</th>\n",
       "    </tr>\n",
       "    <tr>\n",
       "      <th>Data</th>\n",
       "      <th></th>\n",
       "      <th></th>\n",
       "      <th></th>\n",
       "      <th></th>\n",
       "      <th></th>\n",
       "    </tr>\n",
       "  </thead>\n",
       "  <tbody>\n",
       "    <tr>\n",
       "      <th>2018-01-26</th>\n",
       "      <td>-0.034211</td>\n",
       "      <td>-0.020595</td>\n",
       "      <td>0.022856</td>\n",
       "      <td>-0.213588</td>\n",
       "      <td>-0.026161</td>\n",
       "    </tr>\n",
       "    <tr>\n",
       "      <th>2018-01-29</th>\n",
       "      <td>0.020235</td>\n",
       "      <td>0.003663</td>\n",
       "      <td>-0.001748</td>\n",
       "      <td>0.093753</td>\n",
       "      <td>0.035660</td>\n",
       "    </tr>\n",
       "    <tr>\n",
       "      <th>2018-01-30</th>\n",
       "      <td>0.014000</td>\n",
       "      <td>0.007155</td>\n",
       "      <td>0.004211</td>\n",
       "      <td>0.063512</td>\n",
       "      <td>0.045433</td>\n",
       "    </tr>\n",
       "    <tr>\n",
       "      <th>2018-01-31</th>\n",
       "      <td>0.014045</td>\n",
       "      <td>0.005558</td>\n",
       "      <td>0.003696</td>\n",
       "      <td>0.066370</td>\n",
       "      <td>0.042586</td>\n",
       "    </tr>\n",
       "  </tbody>\n",
       "</table>\n",
       "</div>"
      ],
      "text/plain": [
       "            MRVE3_1d  ENBR3_1d  CMIG4_1d  EQTL3_1d  LREN3_1d\n",
       "Data                                                        \n",
       "2018-01-26 -0.034211 -0.020595  0.022856 -0.213588 -0.026161\n",
       "2018-01-29  0.020235  0.003663 -0.001748  0.093753  0.035660\n",
       "2018-01-30  0.014000  0.007155  0.004211  0.063512  0.045433\n",
       "2018-01-31  0.014045  0.005558  0.003696  0.066370  0.042586"
      ]
     },
     "execution_count": 17,
     "metadata": {},
     "output_type": "execute_result"
    }
   ],
   "source": [
    "fc = model_fitted.forecast(y=forecast_input, steps=nobs)\n",
    "df_forecast = pd.DataFrame(fc, index=df.index[-nobs:], columns=df.columns + '_1d')\n",
    "df_forecast"
   ]
  },
  {
   "cell_type": "markdown",
   "metadata": {},
   "source": [
    "* Lembre-se que para tornar a série temporária estacionária, foi necessário fazer uma diferenciação.\n",
    "* Ao realizar esta diferenciação, há uma alteração da escala original da série. * Para que possa ser realizada a comparação das previsões obtidas pelo VAR com os dados do teste, é necessário voltar as previsões para a escala original.\n",
    "* Então, você precisa desfazer a diferenciação a quantidade de vezes que você fez a diferenciação.\n",
    "* Neste caso, é necessário uma vez."
   ]
  },
  {
   "cell_type": "markdown",
   "metadata": {},
   "source": [
    "# <font color='green'>**PASSO 10:**</font> Transformando as previsões para a escala original"
   ]
  },
  {
   "cell_type": "code",
   "execution_count": 18,
   "metadata": {},
   "outputs": [],
   "source": [
    "def invert_transformation(df_train, df_forecast, second_diff=False):\n",
    "    \"\"\"Revert back the differencing to get the forecast to original scale.\"\"\"\n",
    "    df_fc = df_forecast.copy()\n",
    "    columns = df_train.columns\n",
    "    for col in columns:        \n",
    "        # Roll back 2nd Diff\n",
    "        if second_diff:\n",
    "            df_fc[str(col)+'_1d'] = (df_train[col].iloc[-1]-df_train[col].iloc[-2]) + df_fc[str(col)+'_2d'].cumsum()\n",
    "        # Roll back 1st Diff\n",
    "        df_fc[str(col)+'_forecast'] = df_train[col].iloc[-1] + df_fc[str(col)+'_1d'].cumsum()\n",
    "    return df_fc"
   ]
  },
  {
   "cell_type": "code",
   "execution_count": 19,
   "metadata": {},
   "outputs": [
    {
     "data": {
      "text/html": [
       "<div>\n",
       "<style scoped>\n",
       "    .dataframe tbody tr th:only-of-type {\n",
       "        vertical-align: middle;\n",
       "    }\n",
       "\n",
       "    .dataframe tbody tr th {\n",
       "        vertical-align: top;\n",
       "    }\n",
       "\n",
       "    .dataframe thead th {\n",
       "        text-align: right;\n",
       "    }\n",
       "</style>\n",
       "<table border=\"1\" class=\"dataframe\">\n",
       "  <thead>\n",
       "    <tr style=\"text-align: right;\">\n",
       "      <th></th>\n",
       "      <th>MRVE3_forecast</th>\n",
       "      <th>ENBR3_forecast</th>\n",
       "      <th>CMIG4_forecast</th>\n",
       "      <th>EQTL3_forecast</th>\n",
       "      <th>LREN3_forecast</th>\n",
       "    </tr>\n",
       "    <tr>\n",
       "      <th>Data</th>\n",
       "      <th></th>\n",
       "      <th></th>\n",
       "      <th></th>\n",
       "      <th></th>\n",
       "      <th></th>\n",
       "    </tr>\n",
       "  </thead>\n",
       "  <tbody>\n",
       "    <tr>\n",
       "      <th>2018-01-26</th>\n",
       "      <td>14.877789</td>\n",
       "      <td>13.165405</td>\n",
       "      <td>6.373856</td>\n",
       "      <td>66.526412</td>\n",
       "      <td>36.993839</td>\n",
       "    </tr>\n",
       "    <tr>\n",
       "      <th>2018-01-29</th>\n",
       "      <td>14.898024</td>\n",
       "      <td>13.169068</td>\n",
       "      <td>6.372108</td>\n",
       "      <td>66.620165</td>\n",
       "      <td>37.029499</td>\n",
       "    </tr>\n",
       "    <tr>\n",
       "      <th>2018-01-30</th>\n",
       "      <td>14.912025</td>\n",
       "      <td>13.176223</td>\n",
       "      <td>6.376319</td>\n",
       "      <td>66.683677</td>\n",
       "      <td>37.074932</td>\n",
       "    </tr>\n",
       "    <tr>\n",
       "      <th>2018-01-31</th>\n",
       "      <td>14.926070</td>\n",
       "      <td>13.181782</td>\n",
       "      <td>6.380016</td>\n",
       "      <td>66.750047</td>\n",
       "      <td>37.117518</td>\n",
       "    </tr>\n",
       "  </tbody>\n",
       "</table>\n",
       "</div>"
      ],
      "text/plain": [
       "            MRVE3_forecast  ENBR3_forecast  CMIG4_forecast  EQTL3_forecast  \\\n",
       "Data                                                                         \n",
       "2018-01-26       14.877789       13.165405        6.373856       66.526412   \n",
       "2018-01-29       14.898024       13.169068        6.372108       66.620165   \n",
       "2018-01-30       14.912025       13.176223        6.376319       66.683677   \n",
       "2018-01-31       14.926070       13.181782        6.380016       66.750047   \n",
       "\n",
       "            LREN3_forecast  \n",
       "Data                        \n",
       "2018-01-26       36.993839  \n",
       "2018-01-29       37.029499  \n",
       "2018-01-30       37.074932  \n",
       "2018-01-31       37.117518  "
      ]
     },
     "execution_count": 19,
     "metadata": {},
     "output_type": "execute_result"
    }
   ],
   "source": [
    "df_results = invert_transformation(df_train, df_forecast, second_diff=False)        \n",
    "df_results = df_results.drop(columns=['MRVE3_1d','ENBR3_1d','CMIG4_1d','EQTL3_1d','LREN3_1d'])\n",
    "df_results.head()"
   ]
  },
  {
   "cell_type": "markdown",
   "metadata": {},
   "source": [
    "* Pronto! Agora as previsões estão na escala original.\n",
    "* Vamos fazer a comparação."
   ]
  },
  {
   "cell_type": "markdown",
   "metadata": {},
   "source": [
    "# <font color='green'>**PASSO 11:**</font> Plota Previsões x Dados reais"
   ]
  },
  {
   "cell_type": "code",
   "execution_count": 28,
   "metadata": {},
   "outputs": [
    {
     "data": {
      "image/png": "[encoded data removed]",
      "text/plain": [
       "<Figure size 1200x1200 with 5 Axes>"
      ]
     },
     "metadata": {
      "needs_background": "light"
     },
     "output_type": "display_data"
    }
   ],
   "source": [
    "fig, axes = plt.subplots(nrows=5, ncols=1, dpi=150, figsize=(8,8))\n",
    "for i, (col,ax) in enumerate(zip(df.columns, axes.flatten())):\n",
    "    df_results[col+'_forecast'].plot(legend=True, ax=ax).autoscale(axis='x',tight=True)\n",
    "    df_test[col][-nobs:].plot(legend=True, ax=ax);\n",
    "    ax.set_title(col + \": Forecast vs Actuals\")\n",
    "    ax.xaxis.set_ticks_position('none')\n",
    "    ax.yaxis.set_ticks_position('none')\n",
    "    ax.spines[\"top\"].set_alpha(0)\n",
    "    ax.tick_params(labelsize=2)\n",
    "\n",
    "plt.tight_layout();"
   ]
  },
  {
   "cell_type": "markdown",
   "metadata": {},
   "source": [
    "# <font color='green'>**PASSO 12:**</font> Analisando os resultados obtidos"
   ]
  },
  {
   "cell_type": "code",
   "execution_count": 21,
   "metadata": {},
   "outputs": [
    {
     "name": "stdout",
     "output_type": "stream",
     "text": [
      "Forecast Accuracy of: MRVE3\n",
      "mape   :  0.0072\n",
      "me     :  -0.0333\n",
      "mae    :  0.1083\n",
      "mpe    :  -0.0022\n",
      "rmse   :  0.1233\n",
      "corr   :  -0.978\n",
      "minmax :  0.0072\n",
      "\n",
      "Forecast Accuracy of: ENBR3\n",
      "mape   :  0.0209\n",
      "me     :  -0.2829\n",
      "mae    :  0.2829\n",
      "mpe    :  -0.0209\n",
      "rmse   :  0.3216\n",
      "corr   :  -0.9445\n",
      "minmax :  0.0209\n",
      "\n",
      "Forecast Accuracy of: CMIG4\n",
      "mape   :  0.0959\n",
      "me     :  -0.6762\n",
      "mae    :  0.6762\n",
      "mpe    :  -0.0959\n",
      "rmse   :  0.6772\n",
      "corr   :  0.2351\n",
      "minmax :  0.0959\n",
      "\n",
      "Forecast Accuracy of: EQTL3\n",
      "mape   :  0.0177\n",
      "me     :  -1.2099\n",
      "mae    :  1.2099\n",
      "mpe    :  -0.0177\n",
      "rmse   :  1.3497\n",
      "corr   :  0.9435\n",
      "minmax :  0.0177\n",
      "\n",
      "Forecast Accuracy of: LREN3\n",
      "mape   :  0.0119\n",
      "me     :  -0.4478\n",
      "mae    :  0.4478\n",
      "mpe    :  -0.0119\n",
      "rmse   :  0.5631\n",
      "corr   :  -0.272\n",
      "minmax :  0.0119\n"
     ]
    }
   ],
   "source": [
    "from statsmodels.tsa.stattools import acf\n",
    "def forecast_accuracy(forecast, actual):\n",
    "    mape = np.mean(np.abs(forecast - actual)/np.abs(actual))  # MAPE\n",
    "    me = np.mean(forecast - actual)             # ME\n",
    "    mae = np.mean(np.abs(forecast - actual))    # MAE\n",
    "    mpe = np.mean((forecast - actual)/actual)   # MPE\n",
    "    rmse = np.mean((forecast - actual)**2)**.5  # RMSE\n",
    "    corr = np.corrcoef(forecast, actual)[0,1]   # corr\n",
    "    mins = np.amin(np.hstack([forecast[:,None], \n",
    "                              actual[:,None]]), axis=1)\n",
    "    maxs = np.amax(np.hstack([forecast[:,None], \n",
    "                              actual[:,None]]), axis=1)\n",
    "    minmax = 1 - np.mean(mins/maxs)             # minmax\n",
    "    return({'mape':mape, 'me':me, 'mae': mae, \n",
    "            'mpe': mpe, 'rmse':rmse, 'corr':corr, 'minmax':minmax})\n",
    "\n",
    "print('Forecast Accuracy of: MRVE3')\n",
    "accuracy_prod = forecast_accuracy(df_results['MRVE3_forecast'].values, df_test['MRVE3'])\n",
    "for k, v in accuracy_prod.items():\n",
    "    print(adjust(k), ': ', round(v,4))\n",
    "\n",
    "print('\\nForecast Accuracy of: ENBR3')\n",
    "accuracy_prod = forecast_accuracy(df_results['ENBR3_forecast'].values, df_test['ENBR3'])\n",
    "for k, v in accuracy_prod.items():\n",
    "    print(adjust(k), ': ', round(v,4))\n",
    "\n",
    "print('\\nForecast Accuracy of: CMIG4')\n",
    "accuracy_prod = forecast_accuracy(df_results['CMIG4_forecast'].values, df_test['CMIG4'])\n",
    "for k, v in accuracy_prod.items():\n",
    "    print(adjust(k), ': ', round(v,4))\n",
    "\n",
    "print('\\nForecast Accuracy of: EQTL3')\n",
    "accuracy_prod = forecast_accuracy(df_results['EQTL3_forecast'].values, df_test['EQTL3'])\n",
    "for k, v in accuracy_prod.items():\n",
    "    print(adjust(k), ': ', round(v,4))\n",
    "\n",
    "print('\\nForecast Accuracy of: LREN3')\n",
    "accuracy_prod = forecast_accuracy(df_results['LREN3_forecast'].values, df_test['LREN3'])\n",
    "for k, v in accuracy_prod.items():\n",
    "    print(adjust(k), ': ', round(v,4))"
   ]
  },
  {
   "cell_type": "markdown",
   "metadata": {},
   "source": [
    "# <font color='green'>**PASSO 13:**</font> Parâmetros do modelo"
   ]
  },
  {
   "cell_type": "markdown",
   "metadata": {},
   "source": [
    "Abaixo são obtidas:\n",
    "* A matriz A1 que é a matriz de coeficientes que define o modelo VAR de ordem 1\n",
    "* A matriz de covariância dos erros dos modelo\n",
    " * Para cada dia de previsão, há uma matriz de covariância"
   ]
  },
  {
   "cell_type": "code",
   "execution_count": 22,
   "metadata": {},
   "outputs": [
    {
     "name": "stdout",
     "output_type": "stream",
     "text": [
      "Matriz A1: \n",
      " [[-0.04936955 -0.0813877   0.07319154  0.0057182  -0.02472659]\n",
      " [ 0.0318343  -0.16970697  0.0306311   0.02583509 -0.02119694]\n",
      " [ 0.02387289  0.08480396 -0.04826557  0.00758198 -0.01481816]\n",
      " [ 0.05239736  0.28386079  0.028465   -0.10444819 -0.11612038]\n",
      " [ 0.19716294 -0.10842934 -0.02220079  0.01629405 -0.06283951]]\n",
      "\n",
      "\n"
     ]
    }
   ],
   "source": [
    "A1 = model_fitted.coefs\n",
    "print(f'Matriz A1: \\n {A1[0]}')\n",
    "print('\\n') "
   ]
  },
  {
   "cell_type": "code",
   "execution_count": 23,
   "metadata": {},
   "outputs": [
    {
     "name": "stdout",
     "output_type": "stream",
     "text": [
      "Matriz de covariância para a primeira previsão: \n",
      " [[0.0492573  0.0176348  0.01626563 0.05123491 0.04292923]\n",
      " [0.0176348  0.03922002 0.0204192  0.05833901 0.03617614]\n",
      " [0.01626563 0.0204192  0.05183074 0.06961116 0.04633338]\n",
      " [0.05123491 0.05833901 0.06961116 0.4924424  0.13601917]\n",
      " [0.04292923 0.03617614 0.04633338 0.13601917 0.21862277]]\n",
      "\n",
      "\n",
      "Matriz de covariância para a primeira previsão: \n",
      " [[0.04986476 0.01813697 0.01596265 0.05119948 0.04292781]\n",
      " [0.01813697 0.04018    0.02012654 0.0570872  0.03694128]\n",
      " [0.01596265 0.02012654 0.05216173 0.07000673 0.04647511]\n",
      " [0.05119948 0.0570872  0.07000673 0.50065489 0.13628361]\n",
      " [0.04292781 0.03694128 0.04647511 0.13628361 0.22057282]]\n",
      "\n",
      "\n",
      "Matriz de covariância para a primeira previsão: \n",
      " [[0.04988955 0.01816798 0.01594745 0.05114703 0.04293338]\n",
      " [0.01816798 0.04022853 0.02011025 0.05700048 0.03696424]\n",
      " [0.01594745 0.02011025 0.05217209 0.0700372  0.04647779]\n",
      " [0.05114703 0.05700048 0.0700372  0.50088669 0.13626624]\n",
      " [0.04293338 0.03696424 0.04647779 0.13626624 0.22061176]]\n",
      "\n",
      "\n",
      "Matriz de covariância para a primeira previsão: \n",
      " [[0.04989081 0.01816963 0.01594668 0.05114356 0.04293352]\n",
      " [0.01816963 0.04023084 0.02010927 0.05699572 0.03696468]\n",
      " [0.01594668 0.02010927 0.05217258 0.07003934 0.04647781]\n",
      " [0.05114356 0.05699572 0.07003934 0.50089786 0.13626592]\n",
      " [0.04293352 0.03696468 0.04647781 0.13626592 0.22061241]]\n",
      "\n",
      "\n"
     ]
    }
   ],
   "source": [
    "cov = model_fitted.mse(nobs)\n",
    "for i in range(nobs):\n",
    "    print(f'Matriz de covariância para a primeira previsão: \\n {cov[i]}')\n",
    "    print('\\n') "
   ]
  },
  {
   "cell_type": "markdown",
   "metadata": {},
   "source": [
    "# Conclusão"
   ]
  },
  {
   "cell_type": "markdown",
   "metadata": {},
   "source": [
    "Neste arquivo fizemos previsões de cinco ativos negociados na B3 utilizando um modelo VAR. Verificamos todas as hipóteses necessárias para aplicar o modelo VAR e as alterações que devem ser feitas quando as séries históricas não atendem aos requesitos. Fizemos a inversão para a escala original dos dados e plotamos as previsões *versus* os dados reais. Por fim, analisamos as medidas estatísticas dos valores previstos. Esperamos que este material tenha sido útil para você conseguir fazer suas próprias previsões."
   ]
  },
  {
   "cell_type": "markdown",
   "metadata": {},
   "source": [
    "# Referências"
   ]
  },
  {
   "cell_type": "markdown",
   "metadata": {},
   "source": [
    "https://www.machinelearningplus.com/time-series/vector-autoregression-examples-python/\n",
    "\n",
    "https://www.sciencedirect.com/topics/economics-econometrics-and-finance/var-model\n",
    "\n",
    "https://s3.amazonaws.com/assets.datacamp.com/production/course_4267/slides/chapter5.pdf\n",
    "\n",
    "https://blog.quantinsti.com/johansen-test-cointegration-building-stationary-portfolio/"
   ]
  }
 ],
 "metadata": {
  "kernelspec": {
   "display_name": "Python 3",
   "language": "python",
   "name": "python3"
  },
  "language_info": {
   "codemirror_mode": {
    "name": "ipython",
    "version": 3
   },
   "file_extension": ".py",
   "mimetype": "text/x-python",
   "name": "python",
   "nbconvert_exporter": "python",
   "pygments_lexer": "ipython3",
   "version": "3.7.1"
  }
 },
 "nbformat": 4,
 "nbformat_minor": 2
}
